{
 "cells": [
  {
   "cell_type": "markdown",
   "metadata": {},
   "source": [
    "# Collaboration and Competition\n",
    "\n",
    "---\n",
    "\n",
    "In this notebook, you will learn how to use the Unity ML-Agents environment for the third project of the [Deep Reinforcement Learning Nanodegree](https://www.udacity.com/course/deep-reinforcement-learning-nanodegree--nd893) program.\n",
    "\n",
    "### 1. Start the Environment\n",
    "\n",
    "We begin by importing the necessary packages.  If the code cell below returns an error, please revisit the project instructions to double-check that you have installed [Unity ML-Agents](https://github.com/Unity-Technologies/ml-agents/blob/master/docs/Installation.md) and [NumPy](http://www.numpy.org/)."
   ]
  },
  {
   "cell_type": "code",
   "execution_count": 1,
   "metadata": {},
   "outputs": [
    {
     "name": "stdout",
     "output_type": "stream",
     "text": [
      "\u001b[31mtensorflow 1.7.1 has requirement numpy>=1.13.3, but you'll have numpy 1.12.1 which is incompatible.\u001b[0m\r\n",
      "\u001b[31mipython 6.5.0 has requirement prompt-toolkit<2.0.0,>=1.0.15, but you'll have prompt-toolkit 2.0.10 which is incompatible.\u001b[0m\r\n"
     ]
    }
   ],
   "source": [
    "!pip -q install ./python"
   ]
  },
  {
   "cell_type": "code",
   "execution_count": 2,
   "metadata": {},
   "outputs": [
    {
     "name": "stderr",
     "output_type": "stream",
     "text": [
      "INFO:unityagents:\n",
      "'Academy' started successfully!\n",
      "Unity Academy name: Academy\n",
      "        Number of Brains: 1\n",
      "        Number of External Brains : 1\n",
      "        Lesson number : 0\n",
      "        Reset Parameters :\n",
      "\t\t\n",
      "Unity brain name: TennisBrain\n",
      "        Number of Visual Observations (per agent): 0\n",
      "        Vector Observation space type: continuous\n",
      "        Vector Observation space size (per agent): 8\n",
      "        Number of stacked Vector Observation: 3\n",
      "        Vector Action space type: continuous\n",
      "        Vector Action space size (per agent): 2\n",
      "        Vector Action descriptions: , \n"
     ]
    }
   ],
   "source": [
    "from unityagents import UnityEnvironment\n",
    "import numpy as np\n",
    "import random\n",
    "import torch\n",
    "from collections import deque\n",
    "from workspace_utils import active_session\n",
    "import matplotlib.pyplot as plt\n",
    "\n",
    "env = UnityEnvironment(file_name=\"/data/Tennis_Linux_NoVis/Tennis\")"
   ]
  },
  {
   "cell_type": "markdown",
   "metadata": {},
   "source": [
    "Next, we will start the environment!  **_Before running the code cell below_**, change the `file_name` parameter to match the location of the Unity environment that you downloaded.\n",
    "\n",
    "- **Mac**: `\"path/to/Tennis.app\"`\n",
    "- **Windows** (x86): `\"path/to/Tennis_Windows_x86/Tennis.exe\"`\n",
    "- **Windows** (x86_64): `\"path/to/Tennis_Windows_x86_64/Tennis.exe\"`\n",
    "- **Linux** (x86): `\"path/to/Tennis_Linux/Tennis.x86\"`\n",
    "- **Linux** (x86_64): `\"path/to/Tennis_Linux/Tennis.x86_64\"`\n",
    "- **Linux** (x86, headless): `\"path/to/Tennis_Linux_NoVis/Tennis.x86\"`\n",
    "- **Linux** (x86_64, headless): `\"path/to/Tennis_Linux_NoVis/Tennis.x86_64\"`\n",
    "\n",
    "For instance, if you are using a Mac, then you downloaded `Tennis.app`.  If this file is in the same folder as the notebook, then the line below should appear as follows:\n",
    "```\n",
    "env = UnityEnvironment(file_name=\"Tennis.app\")\n",
    "```"
   ]
  },
  {
   "cell_type": "markdown",
   "metadata": {},
   "source": [
    "Environments contain **_brains_** which are responsible for deciding the actions of their associated agents. Here we check for the first brain available, and set it as the default brain we will be controlling from Python."
   ]
  },
  {
   "cell_type": "code",
   "execution_count": 3,
   "metadata": {},
   "outputs": [],
   "source": [
    "# get the default brain\n",
    "brain_name = env.brain_names[0]\n",
    "brain = env.brains[brain_name]"
   ]
  },
  {
   "cell_type": "markdown",
   "metadata": {},
   "source": [
    "2. Examine the State and Action Spaces\n",
    "In this environment, two agents control rackets to bounce a ball over a net. If an agent hits the ball over the net, it receives a reward of +0.1. If an agent lets a ball hit the ground or hits the ball out of bounds, it receives a reward of -0.01. Thus, the goal of each agent is to keep the ball in play.\n",
    "\n",
    "The observation space consists of 8 variables corresponding to the position and velocity of the ball and racket. Two continuous actions are available, corresponding to movement toward (or away from) the net, and jumping.\n",
    "\n",
    "Run the code cell below to print some information about the environment."
   ]
  },
  {
   "cell_type": "code",
   "execution_count": 4,
   "metadata": {},
   "outputs": [
    {
     "name": "stdout",
     "output_type": "stream",
     "text": [
      "Number of agents: 2\n",
      "Size of each action: 2\n",
      "There are 2 agents. Each observes a state with length: 24\n",
      "The state for the first agent looks like: [ 0.          0.          0.          0.          0.          0.          0.\n",
      "  0.          0.          0.          0.          0.          0.          0.\n",
      "  0.          0.         -6.65278625 -1.5        -0.          0.\n",
      "  6.83172083  6.         -0.          0.        ]\n"
     ]
    }
   ],
   "source": [
    "# reset the environment\n",
    "env_info = env.reset(train_mode=True)[brain_name]\n",
    "\n",
    "# number of agents \n",
    "num_agents = len(env_info.agents)\n",
    "print('Number of agents:', num_agents)\n",
    "\n",
    "# size of each action\n",
    "action_size = brain.vector_action_space_size\n",
    "print('Size of each action:', action_size)\n",
    "\n",
    "# examine the state space \n",
    "states = env_info.vector_observations\n",
    "state_size = states.shape[1]\n",
    "print('There are {} agents. Each observes a state with length: {}'.format(states.shape[0], state_size))\n",
    "print('The state for the first agent looks like:', states[0])\n"
   ]
  },
  {
   "cell_type": "markdown",
   "metadata": {},
   "source": [
    "### 4. It's Your Turn!\n",
    "\n",
    "Now it's your turn to train your own agent to solve the environment!  When training the environment, set `train_mode=True`, so that the line for resetting the environment looks like the following:\n",
    "```python\n",
    "env_info = env.reset(train_mode=True)[brain_name]\n",
    "```"
   ]
  },
  {
   "cell_type": "code",
   "execution_count": 5,
   "metadata": {},
   "outputs": [
    {
     "name": "stdout",
     "output_type": "stream",
     "text": [
      "Episode 10\tAverage Score: 0.00\tAgent 1 Score: 0.00\tAgent 2 Score: -0.01\n",
      "Episode 20\tAverage Score: 0.00\tAgent 1 Score: -0.01\tAgent 2 Score: 0.00\n",
      "Episode 30\tAverage Score: 0.00\tAgent 1 Score: 0.00\tAgent 2 Score: -0.01\n",
      "Episode 40\tAverage Score: 0.00\tAgent 1 Score: 0.00\tAgent 2 Score: -0.01\n",
      "Episode 50\tAverage Score: 0.00\tAgent 1 Score: -0.01\tAgent 2 Score: 0.00\n",
      "Episode 60\tAverage Score: 0.00\tAgent 1 Score: 0.00\tAgent 2 Score: -0.01\n",
      "Episode 70\tAverage Score: 0.00\tAgent 1 Score: -0.01\tAgent 2 Score: 0.00\n",
      "Episode 80\tAverage Score: 0.00\tAgent 1 Score: -0.01\tAgent 2 Score: 0.00\n",
      "Episode 90\tAverage Score: 0.00\tAgent 1 Score: 0.00\tAgent 2 Score: -0.01\n",
      "Episode 100\tAverage Score: 0.00\tAgent 1 Score: 0.00\tAgent 2 Score: -0.01\n",
      "Episode 110\tAverage Score: 0.00\tAgent 1 Score: -0.01\tAgent 2 Score: 0.00\n",
      "Episode 120\tAverage Score: 0.00\tAgent 1 Score: 0.00\tAgent 2 Score: -0.01\n",
      "Episode 130\tAverage Score: 0.00\tAgent 1 Score: 0.00\tAgent 2 Score: -0.01\n",
      "Episode 140\tAverage Score: 0.00\tAgent 1 Score: -0.01\tAgent 2 Score: 0.00\n",
      "Episode 150\tAverage Score: 0.00\tAgent 1 Score: 0.00\tAgent 2 Score: -0.01\n",
      "Episode 160\tAverage Score: 0.00\tAgent 1 Score: 0.00\tAgent 2 Score: -0.01\n",
      "Episode 170\tAverage Score: 0.00\tAgent 1 Score: -0.01\tAgent 2 Score: 0.00\n",
      "Episode 180\tAverage Score: 0.00\tAgent 1 Score: 0.00\tAgent 2 Score: -0.01\n",
      "Episode 190\tAverage Score: 0.00\tAgent 1 Score: 0.00\tAgent 2 Score: -0.01\n",
      "Episode 200\tAverage Score: 0.00\tAgent 1 Score: 0.00\tAgent 2 Score: -0.01\n",
      "Episode 210\tAverage Score: 0.00\tAgent 1 Score: 0.00\tAgent 2 Score: -0.01\n",
      "Episode 220\tAverage Score: 0.00\tAgent 1 Score: 0.00\tAgent 2 Score: -0.01\n",
      "Episode 230\tAverage Score: 0.00\tAgent 1 Score: -0.01\tAgent 2 Score: 0.00\n",
      "Episode 240\tAverage Score: 0.00\tAgent 1 Score: -0.01\tAgent 2 Score: 0.00\n",
      "Episode 250\tAverage Score: 0.00\tAgent 1 Score: -0.01\tAgent 2 Score: 0.00\n",
      "Episode 260\tAverage Score: 0.00\tAgent 1 Score: -0.01\tAgent 2 Score: 0.00\n",
      "Episode 270\tAverage Score: 0.00\tAgent 1 Score: -0.01\tAgent 2 Score: 0.00\n",
      "Episode 280\tAverage Score: 0.00\tAgent 1 Score: -0.01\tAgent 2 Score: 0.00\n",
      "Episode 290\tAverage Score: 0.00\tAgent 1 Score: -0.01\tAgent 2 Score: 0.00\n",
      "Episode 300\tAverage Score: 0.00\tAgent 1 Score: -0.01\tAgent 2 Score: 0.00\n",
      "Episode 310\tAverage Score: 0.00\tAgent 1 Score: 0.00\tAgent 2 Score: -0.01\n",
      "Episode 320\tAverage Score: 0.00\tAgent 1 Score: -0.01\tAgent 2 Score: 0.00\n",
      "Episode 330\tAverage Score: 0.00\tAgent 1 Score: 0.00\tAgent 2 Score: -0.01\n",
      "Episode 340\tAverage Score: 0.00\tAgent 1 Score: -0.01\tAgent 2 Score: 0.00\n",
      "Episode 350\tAverage Score: 0.00\tAgent 1 Score: -0.01\tAgent 2 Score: 0.00\n",
      "Episode 360\tAverage Score: 0.00\tAgent 1 Score: -0.01\tAgent 2 Score: 0.00\n",
      "Episode 370\tAverage Score: 0.00\tAgent 1 Score: -0.01\tAgent 2 Score: 0.00\n",
      "Episode 380\tAverage Score: 0.00\tAgent 1 Score: 0.00\tAgent 2 Score: -0.01\n",
      "Episode 390\tAverage Score: 0.00\tAgent 1 Score: -0.01\tAgent 2 Score: 0.00\n",
      "Episode 400\tAverage Score: 0.00\tAgent 1 Score: 0.00\tAgent 2 Score: -0.01\n",
      "Episode 410\tAverage Score: 0.00\tAgent 1 Score: -0.01\tAgent 2 Score: 0.00\n",
      "Episode 420\tAverage Score: 0.00\tAgent 1 Score: 0.00\tAgent 2 Score: -0.01\n",
      "Episode 430\tAverage Score: 0.00\tAgent 1 Score: 0.00\tAgent 2 Score: -0.01\n",
      "Episode 440\tAverage Score: 0.00\tAgent 1 Score: -0.01\tAgent 2 Score: 0.00\n",
      "Episode 450\tAverage Score: 0.00\tAgent 1 Score: -0.01\tAgent 2 Score: 0.00\n",
      "Episode 460\tAverage Score: 0.00\tAgent 1 Score: 0.00\tAgent 2 Score: -0.01\n",
      "Episode 470\tAverage Score: 0.00\tAgent 1 Score: 0.00\tAgent 2 Score: -0.01\n",
      "Episode 480\tAverage Score: 0.00\tAgent 1 Score: 0.00\tAgent 2 Score: -0.01\n",
      "Episode 490\tAverage Score: 0.01\tAgent 1 Score: 0.10\tAgent 2 Score: -0.01\n",
      "Episode 500\tAverage Score: 0.01\tAgent 1 Score: 0.10\tAgent 2 Score: -0.01\n",
      "Episode 510\tAverage Score: 0.01\tAgent 1 Score: 0.10\tAgent 2 Score: -0.01\n",
      "Episode 520\tAverage Score: 0.02\tAgent 1 Score: -0.01\tAgent 2 Score: 0.00\n",
      "Episode 530\tAverage Score: 0.02\tAgent 1 Score: 0.00\tAgent 2 Score: -0.01\n",
      "Episode 540\tAverage Score: 0.02\tAgent 1 Score: 0.00\tAgent 2 Score: -0.01\n",
      "Episode 550\tAverage Score: 0.02\tAgent 1 Score: -0.01\tAgent 2 Score: 0.00\n",
      "Episode 560\tAverage Score: 0.02\tAgent 1 Score: 0.00\tAgent 2 Score: -0.01\n",
      "Episode 570\tAverage Score: 0.02\tAgent 1 Score: 0.00\tAgent 2 Score: -0.01\n",
      "Episode 580\tAverage Score: 0.02\tAgent 1 Score: 0.00\tAgent 2 Score: -0.01\n",
      "Episode 590\tAverage Score: 0.02\tAgent 1 Score: 0.00\tAgent 2 Score: -0.01\n",
      "Episode 600\tAverage Score: 0.02\tAgent 1 Score: 0.00\tAgent 2 Score: -0.01\n",
      "Episode 610\tAverage Score: 0.01\tAgent 1 Score: -0.01\tAgent 2 Score: 0.00\n",
      "Episode 620\tAverage Score: 0.01\tAgent 1 Score: 0.00\tAgent 2 Score: -0.01\n",
      "Episode 630\tAverage Score: 0.01\tAgent 1 Score: -0.01\tAgent 2 Score: 0.00\n",
      "Episode 640\tAverage Score: 0.01\tAgent 1 Score: 0.00\tAgent 2 Score: -0.01\n",
      "Episode 650\tAverage Score: 0.01\tAgent 1 Score: -0.01\tAgent 2 Score: 0.00\n",
      "Episode 660\tAverage Score: 0.01\tAgent 1 Score: 0.00\tAgent 2 Score: -0.01\n",
      "Episode 670\tAverage Score: 0.01\tAgent 1 Score: 0.00\tAgent 2 Score: -0.01\n",
      "Episode 680\tAverage Score: 0.01\tAgent 1 Score: -0.01\tAgent 2 Score: 0.00\n",
      "Episode 690\tAverage Score: 0.00\tAgent 1 Score: 0.00\tAgent 2 Score: -0.01\n",
      "Episode 700\tAverage Score: 0.00\tAgent 1 Score: 0.00\tAgent 2 Score: -0.01\n",
      "Episode 710\tAverage Score: 0.00\tAgent 1 Score: 0.00\tAgent 2 Score: -0.01\n",
      "Episode 720\tAverage Score: 0.00\tAgent 1 Score: 0.00\tAgent 2 Score: -0.01\n",
      "Episode 730\tAverage Score: 0.00\tAgent 1 Score: -0.01\tAgent 2 Score: 0.00\n",
      "Episode 740\tAverage Score: 0.00\tAgent 1 Score: 0.00\tAgent 2 Score: -0.01\n",
      "Episode 750\tAverage Score: 0.00\tAgent 1 Score: 0.00\tAgent 2 Score: -0.01\n",
      "Episode 760\tAverage Score: 0.00\tAgent 1 Score: 0.00\tAgent 2 Score: -0.01\n",
      "Episode 770\tAverage Score: 0.00\tAgent 1 Score: -0.01\tAgent 2 Score: 0.00\n",
      "Episode 780\tAverage Score: 0.00\tAgent 1 Score: -0.01\tAgent 2 Score: 0.00\n",
      "Episode 790\tAverage Score: 0.00\tAgent 1 Score: 0.00\tAgent 2 Score: -0.01\n",
      "Episode 800\tAverage Score: 0.00\tAgent 1 Score: -0.01\tAgent 2 Score: 0.00\n",
      "Episode 810\tAverage Score: 0.00\tAgent 1 Score: 0.00\tAgent 2 Score: -0.01\n",
      "Episode 820\tAverage Score: 0.00\tAgent 1 Score: -0.01\tAgent 2 Score: 0.00\n",
      "Episode 830\tAverage Score: 0.00\tAgent 1 Score: 0.00\tAgent 2 Score: -0.01\n",
      "Episode 840\tAverage Score: 0.00\tAgent 1 Score: 0.00\tAgent 2 Score: -0.01\n",
      "Episode 850\tAverage Score: 0.00\tAgent 1 Score: -0.01\tAgent 2 Score: 0.00\n",
      "Episode 860\tAverage Score: 0.00\tAgent 1 Score: -0.01\tAgent 2 Score: 0.00\n",
      "Episode 870\tAverage Score: 0.00\tAgent 1 Score: -0.01\tAgent 2 Score: 0.10\n",
      "Episode 880\tAverage Score: 0.01\tAgent 1 Score: 0.00\tAgent 2 Score: 0.09\n",
      "Episode 890\tAverage Score: 0.01\tAgent 1 Score: -0.01\tAgent 2 Score: 0.00\n",
      "Episode 900\tAverage Score: 0.01\tAgent 1 Score: -0.01\tAgent 2 Score: 0.00\n",
      "Episode 910\tAverage Score: 0.01\tAgent 1 Score: 0.00\tAgent 2 Score: -0.01\n",
      "Episode 920\tAverage Score: 0.02\tAgent 1 Score: 0.00\tAgent 2 Score: 0.09\n",
      "Episode 930\tAverage Score: 0.02\tAgent 1 Score: -0.01\tAgent 2 Score: 0.00\n",
      "Episode 940\tAverage Score: 0.02\tAgent 1 Score: -0.01\tAgent 2 Score: 0.00\n",
      "Episode 950\tAverage Score: 0.02\tAgent 1 Score: 0.00\tAgent 2 Score: -0.01\n",
      "Episode 960\tAverage Score: 0.02\tAgent 1 Score: -0.01\tAgent 2 Score: 0.00\n",
      "Episode 970\tAverage Score: 0.02\tAgent 1 Score: -0.01\tAgent 2 Score: 0.00\n",
      "Episode 980\tAverage Score: 0.02\tAgent 1 Score: -0.01\tAgent 2 Score: 0.00\n",
      "Episode 990\tAverage Score: 0.02\tAgent 1 Score: 0.00\tAgent 2 Score: -0.01\n",
      "Episode 1000\tAverage Score: 0.02\tAgent 1 Score: -0.01\tAgent 2 Score: 0.00\n",
      "Episode 1010\tAverage Score: 0.02\tAgent 1 Score: -0.01\tAgent 2 Score: 0.00\n",
      "Episode 1020\tAverage Score: 0.01\tAgent 1 Score: 0.00\tAgent 2 Score: -0.01\n",
      "Episode 1030\tAverage Score: 0.02\tAgent 1 Score: -0.01\tAgent 2 Score: 0.00\n",
      "Episode 1040\tAverage Score: 0.01\tAgent 1 Score: -0.01\tAgent 2 Score: 0.00\n",
      "Episode 1050\tAverage Score: 0.02\tAgent 1 Score: -0.01\tAgent 2 Score: 0.00\n",
      "Episode 1060\tAverage Score: 0.03\tAgent 1 Score: 0.00\tAgent 2 Score: 0.09\n",
      "Episode 1070\tAverage Score: 0.03\tAgent 1 Score: -0.01\tAgent 2 Score: 0.00\n",
      "Episode 1080\tAverage Score: 0.04\tAgent 1 Score: -0.01\tAgent 2 Score: 0.10\n",
      "Episode 1090\tAverage Score: 0.04\tAgent 1 Score: 0.10\tAgent 2 Score: -0.01\n",
      "Episode 1100\tAverage Score: 0.05\tAgent 1 Score: 0.10\tAgent 2 Score: 0.19\n",
      "Episode 1110\tAverage Score: 0.06\tAgent 1 Score: 0.10\tAgent 2 Score: -0.01\n",
      "Episode 1120\tAverage Score: 0.07\tAgent 1 Score: 0.10\tAgent 2 Score: -0.01\n",
      "Episode 1130\tAverage Score: 0.08\tAgent 1 Score: 0.10\tAgent 2 Score: -0.01\n"
     ]
    },
    {
     "name": "stdout",
     "output_type": "stream",
     "text": [
      "Episode 1140\tAverage Score: 0.09\tAgent 1 Score: 0.10\tAgent 2 Score: 0.09\n",
      "Episode 1150\tAverage Score: 0.09\tAgent 1 Score: 0.10\tAgent 2 Score: -0.01\n",
      "Episode 1160\tAverage Score: 0.09\tAgent 1 Score: 0.09\tAgent 2 Score: 0.10\n",
      "Episode 1170\tAverage Score: 0.09\tAgent 1 Score: 0.10\tAgent 2 Score: -0.01\n",
      "Episode 1180\tAverage Score: 0.10\tAgent 1 Score: 0.09\tAgent 2 Score: 0.10\n",
      "Episode 1190\tAverage Score: 0.11\tAgent 1 Score: 0.20\tAgent 2 Score: 0.19\n",
      "Episode 1200\tAverage Score: 0.11\tAgent 1 Score: 0.30\tAgent 2 Score: 0.19\n",
      "Episode 1210\tAverage Score: 0.13\tAgent 1 Score: 0.39\tAgent 2 Score: 0.50\n",
      "Episode 1220\tAverage Score: 0.14\tAgent 1 Score: 0.19\tAgent 2 Score: 0.30\n",
      "Episode 1230\tAverage Score: 0.16\tAgent 1 Score: 0.60\tAgent 2 Score: 0.59\n",
      "Episode 1240\tAverage Score: 0.16\tAgent 1 Score: 0.19\tAgent 2 Score: 0.30\n",
      "Episode 1250\tAverage Score: 0.17\tAgent 1 Score: 0.20\tAgent 2 Score: 0.09\n",
      "Episode 1260\tAverage Score: 0.18\tAgent 1 Score: 0.30\tAgent 2 Score: 0.19\n",
      "Episode 1270\tAverage Score: 0.20\tAgent 1 Score: 0.19\tAgent 2 Score: 0.20\n",
      "Episode 1280\tAverage Score: 0.24\tAgent 1 Score: 0.80\tAgent 2 Score: 0.79\n",
      "Episode 1290\tAverage Score: 0.32\tAgent 1 Score: 0.40\tAgent 2 Score: 0.49\n",
      "Episode 1300\tAverage Score: 0.38\tAgent 1 Score: 0.20\tAgent 2 Score: -0.01\n",
      "Episode 1310\tAverage Score: 0.39\tAgent 1 Score: 0.09\tAgent 2 Score: 0.10\n",
      "Episode 1320\tAverage Score: 0.43\tAgent 1 Score: 0.70\tAgent 2 Score: 0.69\n",
      "\n",
      " Environment solved in 1326 episodes! \t Average Score: 0.506800\n"
     ]
    }
   ],
   "source": [
    "with active_session(): \n",
    "    # Initialize Agent\n",
    "    from ddpg_multiAgent import MultiAgent\n",
    "    multiAgent = MultiAgent(state_size=state_size, action_size=action_size, random_seed=2, num_agents = num_agents)\n",
    "\n",
    "    from constant_params import constParams\n",
    "    params = constParams()\n",
    "\n",
    "    def maddpg(n_episodes=params.max_episodes, max_t=500000, print_every=100):\n",
    "        scores_deque = deque(maxlen=print_every)\n",
    "        scores_movingAvg = []\n",
    "        scores_max = []\n",
    "\n",
    "        for i_episode in range(1, n_episodes+1):        \n",
    "            env_info = env.reset(train_mode=True)[brain_name] # reset the environment\n",
    "            state = env_info.vector_observations            # get the current state\n",
    "            multiAgent.reset()\n",
    "            scores = np.zeros(num_agents)\n",
    "            for t in range(max_t):\n",
    "                epsilon = 0.1 \n",
    "\n",
    "                action = multiAgent.act(state, epsilon, add_noise=True)# select an action (for each agent)\n",
    "                env_info = env.step(action)[brain_name]           # send all actions to tne environment\n",
    "                next_state = env_info.vector_observations         # get next state (for each agent)\n",
    "                rewards = env_info.rewards                         # get reward (for each agent)\n",
    "                dones = env_info.local_done                        # see if episode finished\n",
    "\n",
    "                multiAgent.step(state, action, rewards, next_state, dones)    \n",
    "                scores += env_info.rewards                         # update the score (for each agent)\n",
    "                state = next_state                               # roll over states to next time step\n",
    "                if np.any(dones):                                  # exit loop if episode finished\n",
    "                    break\n",
    "\n",
    "            scores_max.append(np.max(scores))\n",
    "            scores_deque.append(np.max(scores))\n",
    "            scores_movingAvg.append(np.mean(scores_deque))\n",
    "\n",
    "            if i_episode % 10 == 0:\n",
    "                print('\\rEpisode {}\\tAverage Score: {:.2f}\\tAgent 1 Score: {:.2f}\\tAgent 2 Score: {:.2f}'.format(i_episode,scores_movingAvg[-1],scores[0],scores[1]))\n",
    "\n",
    "            if np.mean(scores_deque)>= 0.5 and i_episode >= 100:\n",
    "                print('\\n Environment solved in {:d} episodes! \\t Average Score: {:2f}'.format(i_episode, np.mean(scores_deque)))\n",
    "                for i, agent in enumerate(multiAgent.ddpg_agents):\n",
    "                    torch.save(agent.actor_local.state_dict(), '\\trainedNN_actor_{}.pth'.format(i)) \n",
    "                    torch.save(agent.critic_local.state_dict(), '\\trainedNN_critic_{}.pth'.format(i)) \n",
    "                break\n",
    "        \n",
    "        return scores_max, scores_movingAvg\n",
    "\n",
    "    scores_max, scores_movingAvg = maddpg()\n",
    "\n"
   ]
  },
  {
   "cell_type": "code",
   "execution_count": 7,
   "metadata": {},
   "outputs": [
    {
     "data": {
      "image/png": "[encoded data removed]",
      "text/plain": [
       "<matplotlib.figure.Figure at 0x7fdfaa2f89e8>"
      ]
     },
     "metadata": {
      "needs_background": "light"
     },
     "output_type": "display_data"
    }
   ],
   "source": [
    "fig = plt.figure()\n",
    "ax = fig.add_subplot(111)\n",
    "plt.plot(np.arange(len(scores_max)), scores_max, c='b', label='Scores')\n",
    "plt.plot(np.arange(len(scores_movingAvg)), scores_movingAvg, c='r', label='Average Score')\n",
    "plt.ylabel('Scores')\n",
    "plt.xlabel('Episode #')\n",
    "plt.legend(loc='upper left');\n",
    "plt.show()"
   ]
  },
  {
   "cell_type": "code",
   "execution_count": null,
   "metadata": {},
   "outputs": [],
   "source": [
    "# close the environment\n",
    "env.close()"
   ]
  },
  {
   "cell_type": "code",
   "execution_count": null,
   "metadata": {},
   "outputs": [],
   "source": [
    "from ddpg_multiAgent import MultiAgent\n",
    "multiAgent = MultiAgent(state_size=state_size, action_size=action_size, random_seed=2, num_agents = num_agents)\n",
    "\n",
    "for i, agent in enumerate(multiAgent.ddpg_agents):\n",
    "    agent.actor_local.load_state_dict(torch.load('trainedNN_actor_{}.pth'.format(i), map_location='cpu'))\n",
    "    agent.actor_target.load_state_dict(torch.load('trainedNN_actor_{}.pth'.format(i), map_location='cpu'))\n",
    "    agent.critic_local.load_state_dict(torch.load('trainedNN_critic_{}.pth'.format(i), map_location='cpu'))\n",
    "    agent.critic_target.load_state_dict(torch.load('trainedNN_critic_{}.pth'.format(i), map_location='cpu'))\n",
    "\n",
    "for episode in range(3):\n",
    "    env_info = env.reset(train_mode=False)[brain_name]        \n",
    "    states = env_info.vector_observations       \n",
    "    score = np.zeros(num_agents)               \n",
    "    while True:\n",
    "        actions = multiAgent.act(states, epsilon=0, add_noise=False)                       \n",
    "        env_info = env.step(actions)[brain_name]        \n",
    "        next_states = env_info.vector_observations     \n",
    "        rewards = env_info.rewards       \n",
    "        dones = env_info.local_done\n",
    "        score += rewards\n",
    "        states = next_states\n",
    "        if np.any(dones):                              \n",
    "            break\n",
    "    print('Episode: \\t{} \\tScore: \\t{:.2f}'.format(episode, np.mean(score)))"
   ]
  },
  {
   "cell_type": "code",
   "execution_count": null,
   "metadata": {},
   "outputs": [],
   "source": []
  }
 ],
 "metadata": {
  "kernelspec": {
   "display_name": "Python 3",
   "language": "python",
   "name": "python3"
  },
  "language_info": {
   "codemirror_mode": {
    "name": "ipython",
    "version": 3
   },
   "file_extension": ".py",
   "mimetype": "text/x-python",
   "name": "python",
   "nbconvert_exporter": "python",
   "pygments_lexer": "ipython3",
   "version": "3.6.3"
  }
 },
 "nbformat": 4,
 "nbformat_minor": 2
}
